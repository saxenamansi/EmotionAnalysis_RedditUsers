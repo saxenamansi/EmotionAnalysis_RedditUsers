{
 "cells": [
  {
   "cell_type": "code",
   "execution_count": 1,
   "id": "fe6b4915-a1f4-442c-ba35-9211b2f61e8d",
   "metadata": {},
   "outputs": [],
   "source": [
    "import pandas as pd\n",
    "\n",
    "# Specify the path where you want to save the CSV file\n",
    "file_path = 'data/word_attributions_rb.csv'\n",
    "\n",
    "# Save the DataFrame to CSV\n",
    "word_attributions_df = pd.read_csv(file_path)\n"
   ]
  },
  {
   "cell_type": "code",
   "execution_count": 2,
   "id": "d5ddf091-d508-4369-a061-32d132276e66",
   "metadata": {},
   "outputs": [
    {
     "data": {
      "text/html": [
       "<div>\n",
       "<style scoped>\n",
       "    .dataframe tbody tr th:only-of-type {\n",
       "        vertical-align: middle;\n",
       "    }\n",
       "\n",
       "    .dataframe tbody tr th {\n",
       "        vertical-align: top;\n",
       "    }\n",
       "\n",
       "    .dataframe thead th {\n",
       "        text-align: right;\n",
       "    }\n",
       "</style>\n",
       "<table border=\"1\" class=\"dataframe\">\n",
       "  <thead>\n",
       "    <tr style=\"text-align: right;\">\n",
       "      <th></th>\n",
       "      <th>word</th>\n",
       "      <th>admiration_score</th>\n",
       "      <th>admiration_count</th>\n",
       "      <th>amusement_score</th>\n",
       "      <th>amusement_count</th>\n",
       "      <th>anger_score</th>\n",
       "      <th>anger_count</th>\n",
       "      <th>annoyance_score</th>\n",
       "      <th>annoyance_count</th>\n",
       "      <th>approval_score</th>\n",
       "      <th>...</th>\n",
       "      <th>relief_score</th>\n",
       "      <th>relief_count</th>\n",
       "      <th>remorse_score</th>\n",
       "      <th>remorse_count</th>\n",
       "      <th>sadness_score</th>\n",
       "      <th>sadness_count</th>\n",
       "      <th>surprise_score</th>\n",
       "      <th>surprise_count</th>\n",
       "      <th>neutral_score</th>\n",
       "      <th>neutral_count</th>\n",
       "    </tr>\n",
       "  </thead>\n",
       "  <tbody>\n",
       "    <tr>\n",
       "      <th>0</th>\n",
       "      <td>&lt;s&gt;</td>\n",
       "      <td>0.000000</td>\n",
       "      <td>281</td>\n",
       "      <td>0.000000</td>\n",
       "      <td>113</td>\n",
       "      <td>0.000000</td>\n",
       "      <td>55</td>\n",
       "      <td>0.000000</td>\n",
       "      <td>83</td>\n",
       "      <td>0.000000</td>\n",
       "      <td>...</td>\n",
       "      <td>0.0</td>\n",
       "      <td>0</td>\n",
       "      <td>0.000000</td>\n",
       "      <td>45</td>\n",
       "      <td>0.000000</td>\n",
       "      <td>155</td>\n",
       "      <td>0.000000</td>\n",
       "      <td>37</td>\n",
       "      <td>0.000000</td>\n",
       "      <td>3405</td>\n",
       "    </tr>\n",
       "    <tr>\n",
       "      <th>1</th>\n",
       "      <td>hi</td>\n",
       "      <td>0.002015</td>\n",
       "      <td>2</td>\n",
       "      <td>0.035689</td>\n",
       "      <td>2</td>\n",
       "      <td>0.000000</td>\n",
       "      <td>0</td>\n",
       "      <td>0.000000</td>\n",
       "      <td>0</td>\n",
       "      <td>0.000000</td>\n",
       "      <td>...</td>\n",
       "      <td>0.0</td>\n",
       "      <td>0</td>\n",
       "      <td>0.471796</td>\n",
       "      <td>4</td>\n",
       "      <td>-0.019609</td>\n",
       "      <td>6</td>\n",
       "      <td>0.000000</td>\n",
       "      <td>0</td>\n",
       "      <td>1.322971</td>\n",
       "      <td>46</td>\n",
       "    </tr>\n",
       "    <tr>\n",
       "      <th>2</th>\n",
       "      <td>im</td>\n",
       "      <td>3.178083</td>\n",
       "      <td>51</td>\n",
       "      <td>1.657004</td>\n",
       "      <td>97</td>\n",
       "      <td>-0.002995</td>\n",
       "      <td>11</td>\n",
       "      <td>4.864147</td>\n",
       "      <td>69</td>\n",
       "      <td>0.624838</td>\n",
       "      <td>...</td>\n",
       "      <td>0.0</td>\n",
       "      <td>0</td>\n",
       "      <td>0.775257</td>\n",
       "      <td>33</td>\n",
       "      <td>5.088185</td>\n",
       "      <td>231</td>\n",
       "      <td>0.931619</td>\n",
       "      <td>18</td>\n",
       "      <td>-28.446197</td>\n",
       "      <td>439</td>\n",
       "    </tr>\n",
       "    <tr>\n",
       "      <th>3</th>\n",
       "      <td>r</td>\n",
       "      <td>-0.347111</td>\n",
       "      <td>21</td>\n",
       "      <td>0.080260</td>\n",
       "      <td>11</td>\n",
       "      <td>0.008351</td>\n",
       "      <td>1</td>\n",
       "      <td>0.266318</td>\n",
       "      <td>10</td>\n",
       "      <td>0.000000</td>\n",
       "      <td>...</td>\n",
       "      <td>0.0</td>\n",
       "      <td>0</td>\n",
       "      <td>0.177270</td>\n",
       "      <td>4</td>\n",
       "      <td>0.081016</td>\n",
       "      <td>8</td>\n",
       "      <td>0.090215</td>\n",
       "      <td>2</td>\n",
       "      <td>-1.290583</td>\n",
       "      <td>317</td>\n",
       "    </tr>\n",
       "    <tr>\n",
       "      <th>4</th>\n",
       "      <td>ick</td>\n",
       "      <td>-0.104215</td>\n",
       "      <td>4</td>\n",
       "      <td>0.000000</td>\n",
       "      <td>0</td>\n",
       "      <td>0.000000</td>\n",
       "      <td>0</td>\n",
       "      <td>0.000000</td>\n",
       "      <td>0</td>\n",
       "      <td>0.000000</td>\n",
       "      <td>...</td>\n",
       "      <td>0.0</td>\n",
       "      <td>0</td>\n",
       "      <td>0.000000</td>\n",
       "      <td>0</td>\n",
       "      <td>0.005500</td>\n",
       "      <td>1</td>\n",
       "      <td>0.000000</td>\n",
       "      <td>0</td>\n",
       "      <td>-0.787130</td>\n",
       "      <td>13</td>\n",
       "    </tr>\n",
       "    <tr>\n",
       "      <th>...</th>\n",
       "      <td>...</td>\n",
       "      <td>...</td>\n",
       "      <td>...</td>\n",
       "      <td>...</td>\n",
       "      <td>...</td>\n",
       "      <td>...</td>\n",
       "      <td>...</td>\n",
       "      <td>...</td>\n",
       "      <td>...</td>\n",
       "      <td>...</td>\n",
       "      <td>...</td>\n",
       "      <td>...</td>\n",
       "      <td>...</td>\n",
       "      <td>...</td>\n",
       "      <td>...</td>\n",
       "      <td>...</td>\n",
       "      <td>...</td>\n",
       "      <td>...</td>\n",
       "      <td>...</td>\n",
       "      <td>...</td>\n",
       "      <td>...</td>\n",
       "    </tr>\n",
       "    <tr>\n",
       "      <th>13968</th>\n",
       "      <td>¿</td>\n",
       "      <td>0.000000</td>\n",
       "      <td>0</td>\n",
       "      <td>0.000000</td>\n",
       "      <td>0</td>\n",
       "      <td>0.000000</td>\n",
       "      <td>0</td>\n",
       "      <td>0.000000</td>\n",
       "      <td>0</td>\n",
       "      <td>0.000000</td>\n",
       "      <td>...</td>\n",
       "      <td>0.0</td>\n",
       "      <td>0</td>\n",
       "      <td>0.000000</td>\n",
       "      <td>0</td>\n",
       "      <td>0.000000</td>\n",
       "      <td>0</td>\n",
       "      <td>0.000000</td>\n",
       "      <td>0</td>\n",
       "      <td>0.000000</td>\n",
       "      <td>0</td>\n",
       "    </tr>\n",
       "    <tr>\n",
       "      <th>13969</th>\n",
       "      <td>ı</td>\n",
       "      <td>0.000000</td>\n",
       "      <td>0</td>\n",
       "      <td>0.000000</td>\n",
       "      <td>0</td>\n",
       "      <td>0.000000</td>\n",
       "      <td>0</td>\n",
       "      <td>0.000000</td>\n",
       "      <td>0</td>\n",
       "      <td>0.000000</td>\n",
       "      <td>...</td>\n",
       "      <td>0.0</td>\n",
       "      <td>0</td>\n",
       "      <td>0.000000</td>\n",
       "      <td>0</td>\n",
       "      <td>0.000000</td>\n",
       "      <td>0</td>\n",
       "      <td>0.000000</td>\n",
       "      <td>0</td>\n",
       "      <td>0.000000</td>\n",
       "      <td>0</td>\n",
       "    </tr>\n",
       "    <tr>\n",
       "      <th>13970</th>\n",
       "      <td>Ë</td>\n",
       "      <td>0.000000</td>\n",
       "      <td>0</td>\n",
       "      <td>0.000000</td>\n",
       "      <td>0</td>\n",
       "      <td>0.000000</td>\n",
       "      <td>0</td>\n",
       "      <td>0.000000</td>\n",
       "      <td>0</td>\n",
       "      <td>0.000000</td>\n",
       "      <td>...</td>\n",
       "      <td>0.0</td>\n",
       "      <td>0</td>\n",
       "      <td>0.000000</td>\n",
       "      <td>0</td>\n",
       "      <td>0.000000</td>\n",
       "      <td>0</td>\n",
       "      <td>0.000000</td>\n",
       "      <td>0</td>\n",
       "      <td>0.000000</td>\n",
       "      <td>0</td>\n",
       "    </tr>\n",
       "    <tr>\n",
       "      <th>13971</th>\n",
       "      <td>¢</td>\n",
       "      <td>0.000000</td>\n",
       "      <td>0</td>\n",
       "      <td>0.000000</td>\n",
       "      <td>0</td>\n",
       "      <td>0.000000</td>\n",
       "      <td>0</td>\n",
       "      <td>0.000000</td>\n",
       "      <td>0</td>\n",
       "      <td>0.000000</td>\n",
       "      <td>...</td>\n",
       "      <td>0.0</td>\n",
       "      <td>0</td>\n",
       "      <td>0.000000</td>\n",
       "      <td>0</td>\n",
       "      <td>0.000000</td>\n",
       "      <td>0</td>\n",
       "      <td>0.000000</td>\n",
       "      <td>0</td>\n",
       "      <td>0.000000</td>\n",
       "      <td>0</td>\n",
       "    </tr>\n",
       "    <tr>\n",
       "      <th>13972</th>\n",
       "      <td>heartfelt</td>\n",
       "      <td>0.000000</td>\n",
       "      <td>0</td>\n",
       "      <td>0.000000</td>\n",
       "      <td>0</td>\n",
       "      <td>0.000000</td>\n",
       "      <td>0</td>\n",
       "      <td>0.000000</td>\n",
       "      <td>0</td>\n",
       "      <td>0.000000</td>\n",
       "      <td>...</td>\n",
       "      <td>0.0</td>\n",
       "      <td>0</td>\n",
       "      <td>0.000000</td>\n",
       "      <td>0</td>\n",
       "      <td>0.000000</td>\n",
       "      <td>0</td>\n",
       "      <td>0.000000</td>\n",
       "      <td>0</td>\n",
       "      <td>0.000000</td>\n",
       "      <td>0</td>\n",
       "    </tr>\n",
       "  </tbody>\n",
       "</table>\n",
       "<p>13973 rows × 57 columns</p>\n",
       "</div>"
      ],
      "text/plain": [
       "            word  admiration_score  admiration_count  amusement_score  \\\n",
       "0            <s>          0.000000               281         0.000000   \n",
       "1             hi          0.002015                 2         0.035689   \n",
       "2             im          3.178083                51         1.657004   \n",
       "3              r         -0.347111                21         0.080260   \n",
       "4            ick         -0.104215                 4         0.000000   \n",
       "...          ...               ...               ...              ...   \n",
       "13968          ¿          0.000000                 0         0.000000   \n",
       "13969          ı          0.000000                 0         0.000000   \n",
       "13970          Ë          0.000000                 0         0.000000   \n",
       "13971          ¢          0.000000                 0         0.000000   \n",
       "13972  heartfelt          0.000000                 0         0.000000   \n",
       "\n",
       "       amusement_count  anger_score  anger_count  annoyance_score  \\\n",
       "0                  113     0.000000           55         0.000000   \n",
       "1                    2     0.000000            0         0.000000   \n",
       "2                   97    -0.002995           11         4.864147   \n",
       "3                   11     0.008351            1         0.266318   \n",
       "4                    0     0.000000            0         0.000000   \n",
       "...                ...          ...          ...              ...   \n",
       "13968                0     0.000000            0         0.000000   \n",
       "13969                0     0.000000            0         0.000000   \n",
       "13970                0     0.000000            0         0.000000   \n",
       "13971                0     0.000000            0         0.000000   \n",
       "13972                0     0.000000            0         0.000000   \n",
       "\n",
       "       annoyance_count  approval_score  ...  relief_score  relief_count  \\\n",
       "0                   83        0.000000  ...           0.0             0   \n",
       "1                    0        0.000000  ...           0.0             0   \n",
       "2                   69        0.624838  ...           0.0             0   \n",
       "3                   10        0.000000  ...           0.0             0   \n",
       "4                    0        0.000000  ...           0.0             0   \n",
       "...                ...             ...  ...           ...           ...   \n",
       "13968                0        0.000000  ...           0.0             0   \n",
       "13969                0        0.000000  ...           0.0             0   \n",
       "13970                0        0.000000  ...           0.0             0   \n",
       "13971                0        0.000000  ...           0.0             0   \n",
       "13972                0        0.000000  ...           0.0             0   \n",
       "\n",
       "       remorse_score  remorse_count  sadness_score  sadness_count  \\\n",
       "0           0.000000             45       0.000000            155   \n",
       "1           0.471796              4      -0.019609              6   \n",
       "2           0.775257             33       5.088185            231   \n",
       "3           0.177270              4       0.081016              8   \n",
       "4           0.000000              0       0.005500              1   \n",
       "...              ...            ...            ...            ...   \n",
       "13968       0.000000              0       0.000000              0   \n",
       "13969       0.000000              0       0.000000              0   \n",
       "13970       0.000000              0       0.000000              0   \n",
       "13971       0.000000              0       0.000000              0   \n",
       "13972       0.000000              0       0.000000              0   \n",
       "\n",
       "       surprise_score  surprise_count  neutral_score  neutral_count  \n",
       "0            0.000000              37       0.000000           3405  \n",
       "1            0.000000               0       1.322971             46  \n",
       "2            0.931619              18     -28.446197            439  \n",
       "3            0.090215               2      -1.290583            317  \n",
       "4            0.000000               0      -0.787130             13  \n",
       "...               ...             ...            ...            ...  \n",
       "13968        0.000000               0       0.000000              0  \n",
       "13969        0.000000               0       0.000000              0  \n",
       "13970        0.000000               0       0.000000              0  \n",
       "13971        0.000000               0       0.000000              0  \n",
       "13972        0.000000               0       0.000000              0  \n",
       "\n",
       "[13973 rows x 57 columns]"
      ]
     },
     "execution_count": 2,
     "metadata": {},
     "output_type": "execute_result"
    }
   ],
   "source": [
    "word_attributions_df"
   ]
  },
  {
   "cell_type": "code",
   "execution_count": 3,
   "id": "4777b73c-73e8-4b02-985b-bdfbc7602e4f",
   "metadata": {},
   "outputs": [
    {
     "data": {
      "text/plain": [
       "28"
      ]
     },
     "execution_count": 3,
     "metadata": {},
     "output_type": "execute_result"
    }
   ],
   "source": [
    "emotions = ['admiration',\n",
    "       'amusement', 'anger', 'annoyance', 'approval', 'caring', 'confusion',\n",
    "       'curiosity', 'desire', 'disappointment', 'disapproval', 'disgust',\n",
    "       'embarrassment', 'excitement', 'fear', 'gratitude', 'grief', 'joy',\n",
    "       'love', 'nervousness', 'optimism', 'pride', 'realization', 'relief',\n",
    "       'remorse', 'sadness', 'surprise', 'neutral']\n",
    "len(emotions)"
   ]
  },
  {
   "cell_type": "markdown",
   "id": "90a75aef-ac56-4898-a012-233a30f120ca",
   "metadata": {},
   "source": [
    "## Emotion-Vocabulary relationship"
   ]
  },
  {
   "cell_type": "code",
   "execution_count": 4,
   "id": "2338ccd9-3186-4e75-a8d1-3b6d6f863761",
   "metadata": {},
   "outputs": [],
   "source": [
    "# computing the avg score column\n",
    "\n",
    "for emotion in emotions:\n",
    "    score_col = emotion + \"_score\"\n",
    "    count_col = emotion + \"_count\"\n",
    "    avg_col = emotion + \"_avg\"\n",
    "    word_attributions_df[avg_col] = word_attributions_df[score_col]/word_attributions_df[count_col]\n"
   ]
  },
  {
   "cell_type": "code",
   "execution_count": 5,
   "id": "f61ed1ab-73cd-45e1-98be-e626cd4d93db",
   "metadata": {},
   "outputs": [],
   "source": [
    "# getting top words and last words by score\n",
    "\n",
    "# Initialize dictionaries to store top words\n",
    "top_10_words_score = {}\n",
    "last_10_words_score = {}\n",
    "\n",
    "for emotion in emotions:\n",
    "    col_name = emotion + \"_score\"\n",
    "    \n",
    "    series1 = word_attributions_df.sort_values(by=col_name, ascending=False, inplace=False)['word'][:10]\n",
    "    top_10_words_score[emotion] = series1.tolist()\n",
    "    series2 = word_attributions_df.sort_values(by=col_name, ascending=True, inplace=False)['word'][:10]\n",
    "    last_10_words_score[emotion] = series2.tolist()"
   ]
  },
  {
   "cell_type": "code",
   "execution_count": 6,
   "id": "fa2634a4-78c7-4b3b-b8ea-0dd23baba12d",
   "metadata": {},
   "outputs": [],
   "source": [
    "# print(last_10_words_score)"
   ]
  },
  {
   "cell_type": "code",
   "execution_count": 7,
   "id": "64b63434-734b-47f6-8ffa-da555114eeec",
   "metadata": {},
   "outputs": [
    {
     "name": "stdout",
     "output_type": "stream",
     "text": [
      "admiration: ['my', 'love', 'dont', 'would', 'wait', 'wanted', 'an', 'roll', 'morals', 'i']\n",
      "amusement: ['love', 'curious', 'like', 'frustrated', 'enjoy', 'hate', 'a', 'we', 'family', 'what']\n",
      "anger: ['uncomfortable', 'dunno', 'think', 'went', 'sad', 'goals', 'afraid', 'stressed', 'any', 'sadly']\n",
      "annoyance: ['crying', 'never', 'true', 'i', 'post', 'think', 'say', 'proud', 'depression', 'making']\n",
      "approval: ['discouraging', 'love', 'wonderful', 'bad', 'white', 'stop', 'pain', 'need', 'though', 'sorely']\n",
      "caring: ['i', '12', 'concerned', 'spiritual', '14', 'anger', 'people', 'piercing', 'first', 'assured']\n",
      "confusion: ['want', 'might', 'believe', 'anything', 'anxiety', 'can', 'saw', 'little', 'ill', 'whats']\n",
      "curiosity: ['removed', 'https', 'thank', 'hey', 'example', 'advance', 'so', 'y', 'condition', 'nervous']\n",
      "desire: ['love', 'fucked', 'themed', 'happen', 'chat', 'mat', 'harmful', 'hate', 'frame', 'thanks']\n",
      "disappointment: ['i', 'she', 'wish', 'what', 'said', 'sorry', 'makes', 'normal', 'getting', 'entertaining']\n",
      "disapproval: ['giving', 'english', 'reddit', 'may', 'anyone', 'care', 'become', '25', 'where', 'they']\n",
      "disgust: ['hate', 'definitely', 'dont', 'decided', 'could', 'cheese', 'confusing', 'ps', 'think', 'surprised']\n",
      "embarrassment: ['little', 'laugh', 'embarrass', 'shaking', 'panic', 'ask', 'swear', 'ill', 'always', 'what']\n",
      "excitement: ['little', 'add', 'unfortunately', 'go', 'https', 'ee', 'care', 'squ', 'reddit', 'want']\n",
      "fear: ['i', 'sad', 'appreciated', 'anyone', 'able', 'got', 'fantastic', 'apologies', 'recently', 'found']\n",
      "gratitude: ['want', 'wondering', 'love', 'really', 'like', 'place', 'need', 'best', 'anyone', 'how']\n",
      "grief: ['<s>', 'expend', 'itted', 'cargo', 'carrier', 'hurry', 'darling', 'sorting', 'stunt', 'posing']\n",
      "joy: ['want', 'enjoyable', 'hate', 'er', 'sorry', 'nt', 'eve', 'immediately', 'love', 'proud']\n",
      "love: ['dont', 'sad', 'thank', 'ley', 'didnt', 'proud', 'any', 'realization', 'lost', 'realized']\n",
      "nervousness: ['i', 'experiences', 'confused', 'wondering', 'appreciated', 'love', 'which', 'want', 'scary', 'id']\n",
      "optimism: ['ok', 'like', 'does', 'enjoy', 'enjoying', 'need', 'put', 'she', 'want', 'parents']\n",
      "pride: ['started', 'all', 'really', 'today', 'stop', 'r', 'bad', 'feelings', 'ago', 'shower']\n",
      "realization: ['advice', 'timing', 'apologize', 'witch', 'awkward', 'never', 'would', 'forget', 'if', 'enough']\n",
      "relief: ['<s>', 'expend', 'itted', 'cargo', 'carrier', 'hurry', 'darling', 'sorting', 'stunt', 'posing']\n",
      "remorse: ['does', 'what', 'wondering', 'nt', 'love', 'bad', 'dont', 'zero', 'who', 'get']\n",
      "sadness: ['love', 'dont', 'want', 'wish', 'you', 'pray', 'doesnt', 'id', 'what', 'fell']\n",
      "surprise: ['excited', 'what', 'company', 'ill', 'nervous', 'telling', 'favourite', 'love', 'tuition', 'he']\n",
      "neutral: ['i', 'what', 'how', 'removed', 'im', 'irl', 'my', 'dont', 'like', 'found']\n"
     ]
    }
   ],
   "source": [
    "for k, v in last_10_words_score.items():\n",
    "    print(f\"{k}: {v}\")"
   ]
  },
  {
   "cell_type": "code",
   "execution_count": 8,
   "id": "1643f650-534b-449c-a976-1985fe0904d8",
   "metadata": {},
   "outputs": [],
   "source": [
    "import matplotlib.pyplot as plt\n",
    "\n",
    "# Obtaining common words for each pair of emotions\n",
    "num_emotions = len(emotions)\n",
    "\n",
    "overlapping_words_list = []\n",
    "\n",
    "for i in range(num_emotions - 1):\n",
    "    for j in range(i + 1, num_emotions):\n",
    "        emotion1 = emotions[i]\n",
    "        emotion2 = emotions[j]\n",
    "\n",
    "        # Extract words for the current pair of emotions\n",
    "        words1 = set(top_10_words_score[emotion1])\n",
    "        words2 = set(top_10_words_score[emotion2])\n",
    "\n",
    "        # Calculate the intersection for the subsets\n",
    "        common_words = words1.intersection(words2)\n",
    "\n",
    "        if len(common_words) == 0:\n",
    "            continue\n",
    "            \n",
    "        else:\n",
    "\n",
    "            overlapping_words_list.append((emotion1, emotion2, list(common_words)))\n"
   ]
  },
  {
   "cell_type": "code",
   "execution_count": 9,
   "id": "6ae05ad6-a1d4-490a-bcfc-bc717d66fac0",
   "metadata": {},
   "outputs": [],
   "source": [
    "# remove pronouns\n",
    "\n",
    "filtered_list = []\n",
    "\n",
    "# removing pronouns and contractions of pronouns\n",
    "for tup in overlapping_words_list:\n",
    "    (e1, e2, common_words_list) = tup\n",
    "    if all(word not in common_words_list for word in [\"i\", \"im\", \"ive\", \"its\", \"you\"]):\n",
    "        # removing the emotions not predicted by the model\n",
    "        if e1 != \"grief\" and e2 != \"relief\":\n",
    "            filtered_list.append(tup)"
   ]
  },
  {
   "cell_type": "code",
   "execution_count": 10,
   "id": "fb62f4eb-7efb-4bc6-979a-942dba64a3dd",
   "metadata": {},
   "outputs": [
    {
     "data": {
      "text/plain": [
       "[('admiration', 'approval', ['best', 'good']),\n",
       " ('admiration', 'desire', ['good']),\n",
       " ('admiration', 'gratitude', ['appreciated']),\n",
       " ('admiration', 'love', ['best']),\n",
       " ('admiration', 'optimism', ['best']),\n",
       " ('admiration', 'surprise', ['appreciated']),\n",
       " ('anger', 'annoyance', ['stupid', 'shit', 'hate', 'fucking']),\n",
       " ('annoyance', 'disapproval', ['cant', 'hate']),\n",
       " ('approval', 'gratitude', ['welcome']),\n",
       " ('caring', 'desire', ['help', 'please']),\n",
       " ('caring', 'gratitude', ['help']),\n",
       " ('caring', 'nervousness', ['help']),\n",
       " ('caring', 'optimism', ['help']),\n",
       " ('curiosity', 'surprise', ['wondering']),\n",
       " ('desire', 'gratitude', ['help', 'would']),\n",
       " ('desire', 'nervousness', ['help', 'really']),\n",
       " ('disappointment', 'disapproval', ['nt', 'cant', 'dont', 'like']),\n",
       " ('disappointment', 'love', ['like']),\n",
       " ('embarrassment', 'nervousness', ['really']),\n",
       " ('gratitude', 'nervousness', ['help', 'thanks']),\n",
       " ('gratitude', 'optimism', ['help']),\n",
       " ('gratitude', 'remorse', ['would']),\n",
       " ('gratitude', 'surprise', ['appreciated']),\n",
       " ('love', 'nervousness', ['really'])]"
      ]
     },
     "execution_count": 10,
     "metadata": {},
     "output_type": "execute_result"
    }
   ],
   "source": [
    "filtered_list"
   ]
  },
  {
   "cell_type": "markdown",
   "id": "1abcbc74-465b-43eb-8304-769e9632d699",
   "metadata": {},
   "source": [
    "# User Analysis\n",
    "\n",
    "1. Emotion lifecycle"
   ]
  },
  {
   "cell_type": "code",
   "execution_count": 11,
   "id": "6e233581-2620-41f0-aaff-2a45149f1aaf",
   "metadata": {},
   "outputs": [],
   "source": [
    "# compile all reddit posts together\n",
    "\n",
    "import pandas as pd\n",
    "import json\n",
    "import tqdm\n",
    "\n",
    "datapath = \"data/userReddit.csv\"\n",
    "reddit_data = pd.read_csv(datapath)"
   ]
  },
  {
   "cell_type": "code",
   "execution_count": 12,
   "id": "76aaf990-1f87-4259-9ca8-21f2fc90541b",
   "metadata": {},
   "outputs": [
    {
     "data": {
      "text/plain": [
       "userId\n",
       "CesaroSalad             791\n",
       "serventofgaben          707\n",
       "thecrazydeviant         445\n",
       "schweenieboy            335\n",
       "angelicdemon13          244\n",
       "                       ... \n",
       "rinsllw                   1\n",
       "Cutiepattotie5            1\n",
       "WriotheslyEnthusiast      1\n",
       "AirlineOwn3199            1\n",
       "Awkward-Rub3379           1\n",
       "Name: count, Length: 97, dtype: int64"
      ]
     },
     "execution_count": 12,
     "metadata": {},
     "output_type": "execute_result"
    }
   ],
   "source": [
    "reddit_data['userId'].value_counts()"
   ]
  },
  {
   "cell_type": "code",
   "execution_count": 13,
   "id": "4b7410cb-c6cd-46f8-ab05-589fa81df5d6",
   "metadata": {},
   "outputs": [
    {
     "data": {
      "text/plain": [
       "Index(['content', 'userId', 'createdTime', 'sentiment',\n",
       "       'preprocessed_content'],\n",
       "      dtype='object')"
      ]
     },
     "execution_count": 13,
     "metadata": {},
     "output_type": "execute_result"
    }
   ],
   "source": [
    "reddit_data.columns"
   ]
  },
  {
   "cell_type": "code",
   "execution_count": 14,
   "id": "2bd1eebb-a33b-4caf-a4d3-b763946d8373",
   "metadata": {},
   "outputs": [],
   "source": [
    "import matplotlib.pyplot as plt\n",
    "\n",
    "user_post_counts = reddit_data['userId'].value_counts()"
   ]
  },
  {
   "cell_type": "code",
   "execution_count": 15,
   "id": "33fc89b9-c61d-42de-9020-c5a3ccf920e2",
   "metadata": {},
   "outputs": [
    {
     "data": {
      "image/png": "[encoded data removed]",
      "text/plain": [
       "<Figure size 1080x432 with 1 Axes>"
      ]
     },
     "metadata": {
      "needs_background": "light"
     },
     "output_type": "display_data"
    }
   ],
   "source": [
    "# Define the post count ranges\n",
    "post_ranges = [(0, 100), (100, 200), (200, 300), (300, 400), (400, 500), (500, 600), (600, 700), (700, 800), (800, 900)]  # Add more ranges as needed\n",
    "\n",
    "# Count the number of users falling into each range\n",
    "counts_per_range = [(lower, upper, ((user_post_counts >= lower) & (user_post_counts < upper)).sum()) for lower, upper in post_ranges]\n",
    "\n",
    "# Create a bar plot\n",
    "fig, ax = plt.subplots(figsize=(15, 6))\n",
    "ranges_labels = [f'{lower}-{upper}' for lower, upper in post_ranges]\n",
    "ax.bar(ranges_labels, [count for _, _, count in counts_per_range], color='blue')\n",
    "\n",
    "# Add labels and title\n",
    "ax.set_xlabel('Range of Number of Posts per User', fontsize = 16)\n",
    "ax.set_ylabel('Number of Users', fontsize = 16)\n",
    "ax.set_title('Distribution of Number of Posts per User', fontsize = 18)\n",
    "\n",
    "# Set the font size for x-axis labels\n",
    "plt.xticks(fontsize=12)\n",
    "\n",
    "# Save the plot to a file (e.g., PNG)\n",
    "plt.savefig('Figures/postcount1.png')\n",
    "\n",
    "# Display the plot\n",
    "plt.show()"
   ]
  },
  {
   "cell_type": "code",
   "execution_count": 16,
   "id": "a5e2b6d4-6eef-406c-996c-f52ea6439315",
   "metadata": {},
   "outputs": [
    {
     "data": {
      "image/png": "[encoded data removed]",
      "text/plain": [
       "<Figure size 1080x432 with 1 Axes>"
      ]
     },
     "metadata": {
      "needs_background": "light"
     },
     "output_type": "display_data"
    }
   ],
   "source": [
    "post_ranges = [(0, 10), (10, 20), (20, 30), (30, 40), (40, 50), (50, 60), (60, 70), (70, 80), (80, 90), (90, 100)]  # Add more ranges as needed\n",
    "\n",
    "# Count the number of users falling into each range\n",
    "counts_per_range = [(lower, upper, ((user_post_counts >= lower) & (user_post_counts < upper)).sum()) for lower, upper in post_ranges]\n",
    "\n",
    "# Create a bar plot\n",
    "fig, ax = plt.subplots(figsize=(15, 6))\n",
    "ranges_labels = [f'{lower}-{upper}' for lower, upper in post_ranges]\n",
    "ax.bar(ranges_labels, [count for _, _, count in counts_per_range], color='blue')\n",
    "\n",
    "# Add labels and title\n",
    "ax.set_xlabel('Range of Number of Posts per User', fontsize = 16)\n",
    "ax.set_ylabel('Number of Users', fontsize = 16)\n",
    "ax.set_title('Distribution of Number of Posts per User', fontsize = 18)\n",
    "\n",
    "# Set the font size for x-axis labels\n",
    "plt.xticks(fontsize=12)\n",
    "\n",
    "plt.savefig('Figures/postcount2.png')\n",
    "\n",
    "# Display the plot\n",
    "plt.show()"
   ]
  },
  {
   "cell_type": "code",
   "execution_count": 17,
   "id": "0d5124cb-d32d-4ff7-ac04-0f524b6e3e2a",
   "metadata": {},
   "outputs": [
    {
     "data": {
      "image/png": "[encoded data removed]",
      "text/plain": [
       "<Figure size 1080x432 with 1 Axes>"
      ]
     },
     "metadata": {
      "needs_background": "light"
     },
     "output_type": "display_data"
    }
   ],
   "source": [
    "post_ranges = [(0, 1), (1, 2), (2, 3), (3, 4), (4, 5), (5, 6), (6, 7), (7, 8), (8, 9), (9, 10)]  # Add more ranges as needed\n",
    "\n",
    "# Count the number of users falling into each range\n",
    "counts_per_range = [(lower, upper, ((user_post_counts >= lower) & (user_post_counts < upper)).sum()) for lower, upper in post_ranges]\n",
    "\n",
    "# Create a bar plot\n",
    "fig, ax = plt.subplots(figsize=(15, 6))\n",
    "ranges_labels = [f'{lower}-{upper}' for lower, upper in post_ranges]\n",
    "ax.bar(ranges_labels, [count for _, _, count in counts_per_range], color='blue')\n",
    "\n",
    "# Add labels and title\n",
    "ax.set_xlabel('Range of Number of Posts per User', fontsize = 16)\n",
    "ax.set_ylabel('Number of Users', fontsize = 16)\n",
    "ax.set_title('Distribution of Number of Posts per User', fontsize = 18)\n",
    "\n",
    "# Set the font size for x-axis labels\n",
    "plt.xticks(fontsize=12)\n",
    "\n",
    "plt.savefig('Figures/postcount3.png')\n",
    "\n",
    "# Display the plot\n",
    "plt.show()"
   ]
  },
  {
   "cell_type": "code",
   "execution_count": 18,
   "id": "077a7fd6-aad8-4c5c-9cfd-9cfe0088dcb3",
   "metadata": {},
   "outputs": [
    {
     "data": {
      "text/html": [
       "<div>\n",
       "<style scoped>\n",
       "    .dataframe tbody tr th:only-of-type {\n",
       "        vertical-align: middle;\n",
       "    }\n",
       "\n",
       "    .dataframe tbody tr th {\n",
       "        vertical-align: top;\n",
       "    }\n",
       "\n",
       "    .dataframe thead th {\n",
       "        text-align: right;\n",
       "    }\n",
       "</style>\n",
       "<table border=\"1\" class=\"dataframe\">\n",
       "  <thead>\n",
       "    <tr style=\"text-align: right;\">\n",
       "      <th></th>\n",
       "      <th>content</th>\n",
       "      <th>userId</th>\n",
       "      <th>createdTime</th>\n",
       "      <th>sentiment</th>\n",
       "      <th>preprocessed_content</th>\n",
       "    </tr>\n",
       "  </thead>\n",
       "  <tbody>\n",
       "    <tr>\n",
       "      <th>0</th>\n",
       "      <td>Hi I'm Rick Astley. Good to be back here again...</td>\n",
       "      <td>ReallyRickAstley</td>\n",
       "      <td>1.697728e+09</td>\n",
       "      <td>{'neg': 0.0, 'neu': 0.806, 'pos': 0.194, 'comp...</td>\n",
       "      <td>hi im rick astley good back my new album are w...</td>\n",
       "    </tr>\n",
       "    <tr>\n",
       "      <th>1</th>\n",
       "      <td>Live stream chat with my new album and upcomin...</td>\n",
       "      <td>ReallyRickAstley</td>\n",
       "      <td>1.697647e+09</td>\n",
       "      <td>{'neg': 0.06, 'neu': 0.713, 'pos': 0.227, 'com...</td>\n",
       "      <td>live stream chat new album upcoming ama hi im ...</td>\n",
       "    </tr>\n",
       "    <tr>\n",
       "      <th>2</th>\n",
       "      <td>Coming soon…\\n</td>\n",
       "      <td>ReallyRickAstley</td>\n",
       "      <td>1.697149e+09</td>\n",
       "      <td>{'neg': 0.0, 'neu': 1.0, 'pos': 0.0, 'compound...</td>\n",
       "      <td>coming soon</td>\n",
       "    </tr>\n",
       "    <tr>\n",
       "      <th>3</th>\n",
       "      <td>Rick Astley (me) - Never Gonna Stop [Pop]\\n</td>\n",
       "      <td>ReallyRickAstley</td>\n",
       "      <td>1.693502e+09</td>\n",
       "      <td>{'neg': 0.0, 'neu': 0.726, 'pos': 0.274, 'comp...</td>\n",
       "      <td>rick astley never gonna stop pop</td>\n",
       "    </tr>\n",
       "    <tr>\n",
       "      <th>4</th>\n",
       "      <td>Rick Astley (me) - Dippin My Feet [Pop]\\n</td>\n",
       "      <td>ReallyRickAstley</td>\n",
       "      <td>1.689269e+09</td>\n",
       "      <td>{'neg': 0.0, 'neu': 1.0, 'pos': 0.0, 'compound...</td>\n",
       "      <td>rick astley dippin my feet pop</td>\n",
       "    </tr>\n",
       "  </tbody>\n",
       "</table>\n",
       "</div>"
      ],
      "text/plain": [
       "                                             content            userId  \\\n",
       "0  Hi I'm Rick Astley. Good to be back here again...  ReallyRickAstley   \n",
       "1  Live stream chat with my new album and upcomin...  ReallyRickAstley   \n",
       "2                                     Coming soon…\\n  ReallyRickAstley   \n",
       "3        Rick Astley (me) - Never Gonna Stop [Pop]\\n  ReallyRickAstley   \n",
       "4          Rick Astley (me) - Dippin My Feet [Pop]\\n  ReallyRickAstley   \n",
       "\n",
       "    createdTime                                          sentiment  \\\n",
       "0  1.697728e+09  {'neg': 0.0, 'neu': 0.806, 'pos': 0.194, 'comp...   \n",
       "1  1.697647e+09  {'neg': 0.06, 'neu': 0.713, 'pos': 0.227, 'com...   \n",
       "2  1.697149e+09  {'neg': 0.0, 'neu': 1.0, 'pos': 0.0, 'compound...   \n",
       "3  1.693502e+09  {'neg': 0.0, 'neu': 0.726, 'pos': 0.274, 'comp...   \n",
       "4  1.689269e+09  {'neg': 0.0, 'neu': 1.0, 'pos': 0.0, 'compound...   \n",
       "\n",
       "                                preprocessed_content  \n",
       "0  hi im rick astley good back my new album are w...  \n",
       "1  live stream chat new album upcoming ama hi im ...  \n",
       "2                                        coming soon  \n",
       "3                   rick astley never gonna stop pop  \n",
       "4                     rick astley dippin my feet pop  "
      ]
     },
     "execution_count": 18,
     "metadata": {},
     "output_type": "execute_result"
    }
   ],
   "source": [
    "reddit_data.head()"
   ]
  },
  {
   "cell_type": "code",
   "execution_count": 19,
   "id": "ad6a97db-3a7c-47de-9175-eb585c94ec62",
   "metadata": {},
   "outputs": [],
   "source": [
    "import json\n",
    "\n",
    "# Open and read the JSON file as a list of lists\n",
    "with open(\"RedditUserResults/ClassificationResults/rb_outputs.json\", 'r') as file:\n",
    "    classifier_rb_ops = json.load(file)\n",
    "\n",
    "# Open and read the JSON file as a list of lists\n",
    "with open(\"RedditUserResults/ClassificationResults/rb_errors.json\", 'r') as file:\n",
    "    classifier_rb_errors = json.load(file)\n"
   ]
  },
  {
   "cell_type": "code",
   "execution_count": 20,
   "id": "d4090462-dd2f-465e-bcb9-b7b71c7921f0",
   "metadata": {},
   "outputs": [],
   "source": [
    "reddit_data.drop(classifier_rb_errors, axis=0, inplace=True)\n",
    "reddit_data.reset_index(drop=True, inplace=True)\n"
   ]
  },
  {
   "cell_type": "code",
   "execution_count": 21,
   "id": "a6949ab0-555a-42fc-8003-06c5c1314f1a",
   "metadata": {},
   "outputs": [],
   "source": [
    "users = list(set(reddit_data['userId']))\n",
    "\n",
    "user_emotion_lifecycle = {}"
   ]
  },
  {
   "cell_type": "markdown",
   "id": "a103be46-1b96-46e1-89c8-9ec5c4591fd2",
   "metadata": {},
   "source": [
    "## getting all posts from a user and finding emotion of each post"
   ]
  },
  {
   "cell_type": "code",
   "execution_count": 22,
   "id": "2f63a509-93dd-4f45-9839-7c94e1113b61",
   "metadata": {},
   "outputs": [],
   "source": [
    "# ! pip install tqdm\n",
    "from tqdm import tqdm"
   ]
  },
  {
   "cell_type": "code",
   "execution_count": 23,
   "id": "309e15fd-e995-4935-94fa-cd56d1b68f30",
   "metadata": {},
   "outputs": [],
   "source": [
    "# reddit_data[reddit_data['userId'] == user].info()"
   ]
  },
  {
   "cell_type": "code",
   "execution_count": 24,
   "id": "f8f59295-01b7-4a2c-b2fa-7a217b1f2948",
   "metadata": {},
   "outputs": [
    {
     "name": "stderr",
     "output_type": "stream",
     "text": [
      "Processing user posts: 100%|██████████| 97/97 [00:00<00:00, 1453.72user/s]\n"
     ]
    }
   ],
   "source": [
    "for user in tqdm(users, desc=\"Processing user posts\", unit=\"user\"):\n",
    "    # getting lifecycle of emotions of single user\n",
    "    emotions = []\n",
    "    \n",
    "    # getting post history of a user, and sorting it based on time\n",
    "    user_history = reddit_data[reddit_data['userId'] == user]\n",
    "    sorted_history = user_history.sort_values(by='createdTime')\n",
    "\n",
    "    # getting emotion for each post id (from saved results of the classification model)\n",
    "    upost_ids = sorted_history.index.tolist()\n",
    "    for post_id in upost_ids:\n",
    "        try:\n",
    "            emotion = classifier_rb_ops[post_id][0]['label']\n",
    "            emotions.append(emotion)\n",
    "        except:\n",
    "            print(post_id)\n",
    "    user_emotion_lifecycle[user] = emotions\n"
   ]
  },
  {
   "cell_type": "code",
   "execution_count": 25,
   "id": "3aca0f98-38af-4082-8277-9f162dd82066",
   "metadata": {},
   "outputs": [],
   "source": [
    "# user_emotion_lifecycle"
   ]
  },
  {
   "cell_type": "code",
   "execution_count": 26,
   "id": "c742ae34-5bc3-4c27-bd9d-0a761bd03e9c",
   "metadata": {},
   "outputs": [
    {
     "name": "stderr",
     "output_type": "stream",
     "text": [
      "[nltk_data] Downloading package stopwords to\n",
      "[nltk_data]     /home/msaxena4/nltk_data...\n",
      "[nltk_data]   Package stopwords is already up-to-date!\n"
     ]
    }
   ],
   "source": [
    "import gensim\n",
    "from gensim.utils import simple_preprocess\n",
    "import nltk\n",
    "nltk.download('stopwords')\n",
    "from nltk.corpus import stopwords\n",
    "\n",
    "stop_words = stopwords.words('english')\n",
    "stop_words.extend(['from', 'subject', 're', 'edu', 'use'])\n",
    "\n",
    "def sent_to_words(sentences):\n",
    "    for sentence in sentences:\n",
    "        # deacc=True removes punctuations\n",
    "        yield(gensim.utils.simple_preprocess(str(sentence), deacc=True))\n",
    "\n",
    "def remove_stopwords(texts):\n",
    "    return [[word for word in simple_preprocess(str(doc)) \n",
    "             if word not in stop_words] for doc in texts]\n"
   ]
  },
  {
   "cell_type": "code",
   "execution_count": null,
   "id": "52e2e883-89bb-4d5d-a66e-510894e30bd7",
   "metadata": {},
   "outputs": [
    {
     "name": "stderr",
     "output_type": "stream",
     "text": [
      "Processing user posts:  64%|██████▍   | 62/97 [00:18<00:06,  5.14user/s]"
     ]
    }
   ],
   "source": [
    "# getting life cycle of topic modelling of a user\n",
    "\n",
    "from gensim import corpora, models\n",
    "import nltk\n",
    "from nltk.corpus import stopwords\n",
    "from nltk.tokenize import word_tokenize\n",
    "import string\n",
    "\n",
    "user_topics_lifecycle = {}\n",
    "\n",
    "for user in tqdm(users, desc=\"Processing user posts\", unit=\"user\"):\n",
    "    topics = []\n",
    "    uposts = reddit_data[reddit_data['userId'] == user]['preprocessed_content'].tolist()\n",
    "    post_tokens = [word_tokenize(post) for post in uposts]\n",
    "\n",
    "    # Create a dictionary representation of the posts\n",
    "    dictionary = corpora.Dictionary(post_tokens)\n",
    "    \n",
    "    # Create a document-term matrix\n",
    "    corpus = [dictionary.doc2bow(post) for post in post_tokens]\n",
    "    \n",
    "    # Build the LDA model\n",
    "    lda_model = models.LdaModel(corpus, num_topics=5, id2word=dictionary, passes=15)\n",
    "    \n",
    "    # Get the topics for each post\n",
    "    post_topics = []\n",
    "    for i, upost in enumerate(uposts):\n",
    "        # Get the document-term matrix for the post\n",
    "        post_bow = dictionary.doc2bow(post_tokens[i])\n",
    "    \n",
    "        # Get the topics for the post\n",
    "        topics = lda_model.get_document_topics(post_bow)\n",
    "        \n",
    "        # Append the topics to the list\n",
    "        post_topics.append(topics)\n",
    "    \n",
    "    user_topics_lifecycle[user] = post_topics"
   ]
  },
  {
   "cell_type": "code",
   "execution_count": null,
   "id": "4efa0edd-b78c-4053-ab0c-fcea57619560",
   "metadata": {},
   "outputs": [],
   "source": [
    "# user_topics_lifecycle"
   ]
  },
  {
   "cell_type": "code",
   "execution_count": null,
   "id": "1001f81e-bccc-4f49-bdd0-14e4d78726e5",
   "metadata": {},
   "outputs": [],
   "source": [
    "len(users)"
   ]
  },
  {
   "cell_type": "code",
   "execution_count": null,
   "id": "7fed9191-8b23-4698-9c9d-be2087ec51bd",
   "metadata": {},
   "outputs": [],
   "source": [
    "labels = {}\n",
    "labels[\"label_col\"] = []\n",
    "for output in classifier_rb_ops:\n",
    "    labels['label_col'].append(output[0]['label'])"
   ]
  },
  {
   "cell_type": "code",
   "execution_count": null,
   "id": "a649e854-8012-40c6-9655-2b5e71987413",
   "metadata": {},
   "outputs": [],
   "source": [
    "df = pd.DataFrame(labels)"
   ]
  },
  {
   "cell_type": "code",
   "execution_count": null,
   "id": "a136b24e-d5c3-4069-bc48-dccb4d5a1806",
   "metadata": {
    "scrolled": true
   },
   "outputs": [],
   "source": [
    "df.value_counts(dropna=False)"
   ]
  },
  {
   "cell_type": "code",
   "execution_count": null,
   "id": "ab312741-fd35-4d0a-989e-f7b0ca283485",
   "metadata": {},
   "outputs": [],
   "source": [
    "emotions = ['admiration',\n",
    "       'amusement', 'anger', 'annoyance', 'approval', 'caring', 'confusion',\n",
    "       'curiosity', 'desire', 'disappointment', 'disapproval', 'disgust',\n",
    "       'embarrassment', 'excitement', 'fear', 'gratitude', 'grief', 'joy',\n",
    "       'love', 'nervousness', 'optimism', 'pride', 'realization', 'relief',\n",
    "       'remorse', 'sadness', 'surprise', 'neutral']\n",
    "len(emotions)"
   ]
  },
  {
   "cell_type": "code",
   "execution_count": null,
   "id": "5272b3b6-8fda-4758-8147-a40323cf3c83",
   "metadata": {},
   "outputs": [],
   "source": [
    "import matplotlib.pyplot as plt\n",
    "\n",
    "# Assuming df is your DataFrame and 'label_col' is the column you want to plot\n",
    "\n",
    "all_labels = emotions\n",
    "filtered_df = df[df['label_col'] != 'neutral']\n",
    "\n",
    "label_counts = filtered_df.groupby('label_col').size().reindex(all_labels, fill_value=0)\n",
    "\n",
    "# Exclude neutral from the plot\n",
    "label_counts = label_counts[label_counts.index != 'neutral']\n",
    "\n",
    "# Sort label_counts in descending order\n",
    "label_counts = label_counts.sort_values(ascending=False)\n",
    "\n",
    "plt.figure(figsize=(12, 8))  # Increase the figure size\n",
    "\n",
    "bar_plot = label_counts.plot(kind='bar', color='blue')\n",
    "\n",
    "plt.title('Distribution of (predicted) Emotional Labels', fontsize=20)\n",
    "plt.xlabel('Emotion Labels', fontsize=16)\n",
    "plt.ylabel('Count', fontsize=16)\n",
    "\n",
    "# Rotate x-axis labels for better readability\n",
    "bar_plot.set_xticklabels(bar_plot.get_xticklabels(), rotation=45, horizontalalignment='right')\n",
    "\n",
    "# Adjust layout for better spacing\n",
    "plt.tight_layout()\n",
    "\n",
    "# Save the plot to a file (e.g., PNG)\n",
    "plt.savefig('Figures/emotion_distribution.png')\n",
    "\n",
    "# Display the plot\n",
    "plt.show()\n"
   ]
  },
  {
   "cell_type": "code",
   "execution_count": null,
   "id": "a8912b06-e2b8-4e1a-8248-66d3f7160434",
   "metadata": {},
   "outputs": [],
   "source": [
    "print(all_labels)"
   ]
  },
  {
   "cell_type": "code",
   "execution_count": null,
   "id": "548ae5f2-494d-4ce1-8e13-ef73de85d0fb",
   "metadata": {},
   "outputs": [],
   "source": [
    "import matplotlib.pyplot as plt\n",
    "\n",
    "# Assuming df is your DataFrame and 'label_col' is the column you want to plot\n",
    "\n",
    "all_labels = emotions\n",
    "filtered_df = df[df['label_col'] != 'neutral']\n",
    "\n",
    "label_counts = filtered_df.groupby('label_col').size().reindex(all_labels, fill_value=0)\n",
    "\n",
    "# Exclude neutral from the plot\n",
    "label_counts = label_counts[label_counts.index != 'neutral']\n",
    "\n",
    "# Sort label_counts in descending order\n",
    "label_counts = label_counts.sort_values(ascending=False)\n",
    "\n",
    "plt.figure(figsize=(12, 8))  # Increase the figure size\n",
    "\n",
    "bar_plot = label_counts.plot(kind='bar', color='blue')\n",
    "\n",
    "plt.title('Distribution of (predicted) Emotional Labels', fontsize=20)\n",
    "plt.xlabel('Emotion Labels', fontsize=16)\n",
    "plt.ylabel('Count', fontsize=16)\n",
    "\n",
    "# Rotate x-axis labels for better readability\n",
    "bar_plot.set_xticklabels(bar_plot.get_xticklabels(), rotation=45, horizontalalignment='right')\n",
    "\n",
    "# Annotate each bar with its count value\n",
    "for i, v in enumerate(label_counts):\n",
    "    bar_plot.text(i, v + 0.1, str(v), ha='center', va='bottom', fontsize=10)\n",
    "\n",
    "# Adjust layout for better spacing\n",
    "plt.tight_layout()\n",
    "\n",
    "# Save the plot to a file (e.g., PNG)\n",
    "plt.savefig('Figures/emotion_distribution.png')\n",
    "\n",
    "# Display the plot\n",
    "plt.show()\n"
   ]
  },
  {
   "cell_type": "code",
   "execution_count": null,
   "id": "b4b25263-c499-4933-8eea-698438fedbb8",
   "metadata": {},
   "outputs": [],
   "source": [
    "# import matplotlib.pyplot as plt\n",
    "\n",
    "# # Assuming df is your DataFrame and 'label_col' is the column you want to plot\n",
    "\n",
    "# all_labels = emotions\n",
    "# filtered_df = df[df['label_col'] != 'neutral']\n",
    "\n",
    "# label_counts = filtered_df.groupby('label_col').size().reindex(all_labels, fill_value=0)\n",
    "\n",
    "# # Exclude neutral from the plot\n",
    "# label_counts = label_counts[label_counts.index != 'neutral']\n",
    "\n",
    "# # Sort label_counts in descending order\n",
    "# label_counts = label_counts.sort_values(ascending=False)\n",
    "\n",
    "# plt.figure(figsize=(12, 8))  # Increase the figure size\n",
    "\n",
    "# bar_plot = label_counts.plot(kind='bar', color='blue')\n",
    "# x\n",
    "# plt.title('Distribution of (predicted) Emotional Labels', fontsize=20)\n",
    "# plt.xlabel('Emotion Labels', fontsize=16)\n",
    "# plt.ylabel('Count', fontsize=16)\n",
    "\n",
    "# # Rotate x-axis labels for better readability\n",
    "# bar_plot.set_xticklabels(bar_plot.get_xticklabels(), rotation=45, horizontalalignment='right')\n",
    "\n",
    "# # Annotate each bar with its count value on top of a vertical line\n",
    "# for i, v in enumerate(label_counts):\n",
    "#     bar_plot.text(i, v + 0.1, str(v), ha='center', va='bottom', fontsize=10)\n",
    "#     plt.axvline(i, color='black', linestyle='dashed', linewidth=1)\n",
    "\n",
    "# # Adjust layout for better spacing\n",
    "# plt.tight_layout()\n",
    "\n",
    "# # Save the plot to a file (e.g., PNG)\n",
    "# plt.savefig('Figures/emotion_distribution.png')\n",
    "\n",
    "# # Display the plot\n",
    "# plt.show()\n"
   ]
  },
  {
   "cell_type": "code",
   "execution_count": null,
   "id": "f931e91d-ec7e-46ee-9fa6-517b9ea2f0bd",
   "metadata": {},
   "outputs": [],
   "source": []
  },
  {
   "cell_type": "code",
   "execution_count": null,
   "id": "62585c38-5385-4ce3-8f76-a8f01d71593a",
   "metadata": {},
   "outputs": [],
   "source": []
  },
  {
   "cell_type": "code",
   "execution_count": null,
   "id": "c637e3c7-79df-4b10-8efb-18bb010cac2a",
   "metadata": {},
   "outputs": [],
   "source": []
  },
  {
   "cell_type": "code",
   "execution_count": null,
   "id": "b948db4e-36e5-4624-a130-bdd023ce5cbd",
   "metadata": {},
   "outputs": [],
   "source": []
  },
  {
   "cell_type": "code",
   "execution_count": null,
   "id": "bcd1ec63-4a42-480b-9b4f-b0056a14c330",
   "metadata": {},
   "outputs": [],
   "source": [
    "len(set(df['label_col']))"
   ]
  },
  {
   "cell_type": "code",
   "execution_count": null,
   "id": "733ca790-e350-4805-aa47-b59c24dcb24e",
   "metadata": {},
   "outputs": [],
   "source": [
    "state_transitions = [value for value in user_emotion_lifecycle.values()]"
   ]
  },
  {
   "cell_type": "code",
   "execution_count": null,
   "id": "a8cca15a-0166-4803-b519-cf8a4f083857",
   "metadata": {},
   "outputs": [],
   "source": [
    "# state_transitions"
   ]
  },
  {
   "cell_type": "code",
   "execution_count": null,
   "id": "fc74633d-aa27-46dc-b0ca-09d45614f170",
   "metadata": {},
   "outputs": [],
   "source": [
    "with open('emotion_transitions.json', 'w') as jsonfile:\n",
    "    json.dump(state_transitions, jsonfile)"
   ]
  },
  {
   "cell_type": "code",
   "execution_count": null,
   "id": "ff6c7aaf-3cc8-4e60-8bda-9b73a560a9cf",
   "metadata": {},
   "outputs": [],
   "source": [
    "with open('user_emotion_lifecycle.json', 'w') as jsonfile:\n",
    "    json.dump(user_emotion_lifecycle, jsonfile)"
   ]
  },
  {
   "cell_type": "code",
   "execution_count": null,
   "id": "cb9ff0e6-a3f8-4ea8-9a45-2bd46d1d0cb9",
   "metadata": {},
   "outputs": [],
   "source": []
  }
 ],
 "metadata": {
  "kernelspec": {
   "display_name": "Python 3 (ipykernel)",
   "language": "python",
   "name": "python3"
  },
  "language_info": {
   "codemirror_mode": {
    "name": "ipython",
    "version": 3
   },
   "file_extension": ".py",
   "mimetype": "text/x-python",
   "name": "python",
   "nbconvert_exporter": "python",
   "pygments_lexer": "ipython3",
   "version": "3.10.6"
  }
 },
 "nbformat": 4,
 "nbformat_minor": 5
}
