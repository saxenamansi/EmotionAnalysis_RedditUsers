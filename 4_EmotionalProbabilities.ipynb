{
 "cells": [
  {
   "cell_type": "code",
   "execution_count": 1,
   "id": "e8ad4270-e994-4774-a461-5eb91c4b8915",
   "metadata": {},
   "outputs": [],
   "source": [
    "import json\n",
    "with open('emotion_transitions.json', 'r') as jsonfile:\n",
    "    state_transitions = json.load(jsonfile)"
   ]
  },
  {
   "cell_type": "code",
   "execution_count": 3,
   "id": "e853c3d9-f283-4f98-8cd0-5b12a666968a",
   "metadata": {},
   "outputs": [],
   "source": [
    "from collections import Counter\n",
    "\n",
    "transition_pairs = []\n",
    "\n",
    "# State transitions for each user\n",
    "for sublist in state_transitions:\n",
    "    # Create pairs of transitions\n",
    "    for i in range(len(sublist) - 1):\n",
    "        if (sublist[i] == 'neutral') or (sublist[i + 1] == 'neutral'):\n",
    "            continue\n",
    "        transition = (sublist[i], sublist[i + 1])\n",
    "        transition_pairs.append(transition)\n",
    "\n",
    "# Count the number of occurrences for each transition pair\n",
    "transition_counts = Counter(transition_pairs)\n",
    "\n",
    "# Calculate the total number of transitions\n",
    "total_transitions = sum(transition_counts.values())\n",
    "\n",
    "# Calculate probabilities for each transition pair\n",
    "probabilities = {transition: count / total_transitions for transition, count in transition_counts.items()}\n"
   ]
  },
  {
   "cell_type": "code",
   "execution_count": 4,
   "id": "f47a69a5-6f12-44f5-b995-05aa8f0b87dd",
   "metadata": {},
   "outputs": [
    {
     "data": {
      "text/plain": [
       "19"
      ]
     },
     "execution_count": 4,
     "metadata": {},
     "output_type": "execute_result"
    }
   ],
   "source": [
    "len(set(probabilities.values()))"
   ]
  },
  {
   "cell_type": "code",
   "execution_count": 5,
   "id": "d3a90cd8-43fa-4c27-a095-07aaf572605d",
   "metadata": {},
   "outputs": [
    {
     "data": {
      "text/plain": [
       "{0.0009823182711198428,\n",
       " 0.0019646365422396855,\n",
       " 0.0029469548133595285,\n",
       " 0.003929273084479371,\n",
       " 0.004911591355599214,\n",
       " 0.005893909626719057,\n",
       " 0.0068762278978389,\n",
       " 0.007858546168958742,\n",
       " 0.008840864440078585,\n",
       " 0.009823182711198428,\n",
       " 0.010805500982318271,\n",
       " 0.011787819253438114,\n",
       " 0.012770137524557957,\n",
       " 0.014734774066797643,\n",
       " 0.01669941060903733,\n",
       " 0.023575638506876228,\n",
       " 0.029469548133595286,\n",
       " 0.04518664047151277,\n",
       " 0.047151277013752456}"
      ]
     },
     "execution_count": 5,
     "metadata": {},
     "output_type": "execute_result"
    }
   ],
   "source": [
    "set(probabilities.values())"
   ]
  },
  {
   "cell_type": "code",
   "execution_count": 6,
   "id": "89485a0b-f991-4337-97e8-67ae5d331d05",
   "metadata": {},
   "outputs": [],
   "source": [
    "filtered_probabilities = {key: value for key, value in probabilities.items() if value >= 0.005}\n"
   ]
  },
  {
   "cell_type": "code",
   "execution_count": 7,
   "id": "2ab7bde8-8a7c-4673-af1a-26d9ed38b651",
   "metadata": {},
   "outputs": [
    {
     "data": {
      "text/plain": [
       "{('love', 'love'): 0.047151277013752456,\n",
       " ('amusement', 'amusement'): 0.010805500982318271,\n",
       " ('love', 'curiosity'): 0.005893909626719057,\n",
       " ('curiosity', 'gratitude'): 0.008840864440078585,\n",
       " ('love', 'admiration'): 0.01669941060903733,\n",
       " ('admiration', 'admiration'): 0.04518664047151277,\n",
       " ('sadness', 'amusement'): 0.005893909626719057,\n",
       " ('fear', 'fear'): 0.009823182711198428,\n",
       " ('joy', 'joy'): 0.011787819253438114,\n",
       " ('gratitude', 'admiration'): 0.0068762278978389,\n",
       " ('admiration', 'love'): 0.011787819253438114,\n",
       " ('disappointment', 'love'): 0.008840864440078585,\n",
       " ('love', 'joy'): 0.012770137524557957,\n",
       " ('sadness', 'sadness'): 0.014734774066797643,\n",
       " ('gratitude', 'gratitude'): 0.023575638506876228,\n",
       " ('love', 'gratitude'): 0.011787819253438114,\n",
       " ('love', 'sadness'): 0.008840864440078585,\n",
       " ('sadness', 'admiration'): 0.008840864440078585,\n",
       " ('curiosity', 'admiration'): 0.005893909626719057,\n",
       " ('excitement', 'excitement'): 0.008840864440078585,\n",
       " ('curiosity', 'curiosity'): 0.029469548133595286,\n",
       " ('admiration', 'amusement'): 0.005893909626719057,\n",
       " ('joy', 'curiosity'): 0.005893909626719057,\n",
       " ('joy', 'admiration'): 0.0068762278978389,\n",
       " ('admiration', 'joy'): 0.008840864440078585,\n",
       " ('joy', 'love'): 0.009823182711198428,\n",
       " ('admiration', 'curiosity'): 0.008840864440078585,\n",
       " ('desire', 'desire'): 0.0068762278978389,\n",
       " ('annoyance', 'admiration'): 0.005893909626719057,\n",
       " ('sadness', 'gratitude'): 0.007858546168958742,\n",
       " ('gratitude', 'love'): 0.0068762278978389,\n",
       " ('sadness', 'love'): 0.010805500982318271,\n",
       " ('gratitude', 'joy'): 0.005893909626719057,\n",
       " ('gratitude', 'curiosity'): 0.005893909626719057}"
      ]
     },
     "execution_count": 7,
     "metadata": {},
     "output_type": "execute_result"
    }
   ],
   "source": [
    "filtered_probabilities"
   ]
  },
  {
   "cell_type": "code",
   "execution_count": 9,
   "id": "f81f1038-815b-4281-87c2-28ce6c1d4ed2",
   "metadata": {},
   "outputs": [],
   "source": [
    "# save probabilities to a file\n",
    "\n",
    "filename='emotion_lifecycle_probabilities.json'\n",
    "\n",
    "# Convert keys (tuples) to strings\n",
    "probabilities = {str(key): value for key, value in filtered_probabilities.items()}\n",
    "\n",
    "# Save the converted probabilities to a JSON file\n",
    "with open(filename, 'w') as file:\n",
    "    json.dump(probabilities, file)\n"
   ]
  },
  {
   "cell_type": "code",
   "execution_count": 10,
   "id": "709b46b7-6075-4c73-876f-1286d14ea2c9",
   "metadata": {},
   "outputs": [],
   "source": [
    "import ast\n",
    "\n",
    "# Load the converted probabilities from the JSON file\n",
    "with open(filename, 'r') as file:\n",
    "    loaded_probabilities = json.load(file)\n",
    "\n",
    "# Convert keys (strings) back to tuples\n",
    "loaded_probabilities = {tuple(ast.literal_eval(key)): value for key, value in loaded_probabilities.items()}\n"
   ]
  },
  {
   "cell_type": "code",
   "execution_count": 25,
   "id": "573b55ad-648e-452c-9b77-ae041610c170",
   "metadata": {},
   "outputs": [
    {
     "data": {
      "text/plain": [
       "{('curiosity', 'gratitude'): 0.008840864440078585,\n",
       " ('admiration', 'joy'): 0.008840864440078585,\n",
       " ('sadness', 'sadness'): 0.014734774066797643,\n",
       " ('sadness', 'amusement'): 0.005893909626719057,\n",
       " ('amusement', 'amusement'): 0.010805500982318271,\n",
       " ('sadness', 'love'): 0.010805500982318271,\n",
       " ('love', 'sadness'): 0.008840864440078585,\n",
       " ('gratitude', 'joy'): 0.005893909626719057,\n",
       " ('joy', 'love'): 0.009823182711198428,\n",
       " ('fear', 'fear'): 0.009823182711198428,\n",
       " ('joy', 'joy'): 0.011787819253438114,\n",
       " ('joy', 'curiosity'): 0.005893909626719057,\n",
       " ('joy', 'admiration'): 0.0068762278978389,\n",
       " ('excitement', 'excitement'): 0.008840864440078585,\n",
       " ('admiration', 'admiration'): 0.04518664047151277,\n",
       " ('love', 'joy'): 0.012770137524557957,\n",
       " ('admiration', 'curiosity'): 0.008840864440078585,\n",
       " ('love', 'love'): 0.047151277013752456,\n",
       " ('admiration', 'love'): 0.011787819253438114,\n",
       " ('admiration', 'amusement'): 0.005893909626719057,\n",
       " ('disappointment', 'love'): 0.008840864440078585,\n",
       " ('love', 'admiration'): 0.01669941060903733,\n",
       " ('desire', 'desire'): 0.0068762278978389,\n",
       " ('curiosity', 'curiosity'): 0.029469548133595286,\n",
       " ('love', 'gratitude'): 0.011787819253438114,\n",
       " ('gratitude', 'admiration'): 0.0068762278978389,\n",
       " ('gratitude', 'gratitude'): 0.023575638506876228,\n",
       " ('gratitude', 'love'): 0.0068762278978389,\n",
       " ('sadness', 'admiration'): 0.008840864440078585,\n",
       " ('curiosity', 'admiration'): 0.005893909626719057,\n",
       " ('annoyance', 'admiration'): 0.005893909626719057,\n",
       " ('gratitude', 'curiosity'): 0.005893909626719057,\n",
       " ('sadness', 'gratitude'): 0.007858546168958742,\n",
       " ('love', 'curiosity'): 0.005893909626719057}"
      ]
     },
     "execution_count": 25,
     "metadata": {},
     "output_type": "execute_result"
    }
   ],
   "source": [
    "loaded_probabilities"
   ]
  },
  {
   "cell_type": "code",
   "execution_count": 13,
   "id": "6c717ee5-1231-444f-823d-793224b71118",
   "metadata": {},
   "outputs": [],
   "source": [
    "# probs = loaded_probabilities.values()\n",
    "# probs = sorted(list(probs))"
   ]
  },
  {
   "cell_type": "code",
   "execution_count": 27,
   "id": "5eac29e6-aed7-4b07-adfd-7cf797301536",
   "metadata": {},
   "outputs": [
    {
     "data": {
      "text/plain": [
       "[0.014734774066797643,\n",
       " 0.04518664047151277,\n",
       " 0.0068762278978389,\n",
       " 0.029469548133595286,\n",
       " 0.005893909626719057,\n",
       " 0.012770137524557957,\n",
       " 0.011787819253438114,\n",
       " 0.023575638506876228,\n",
       " 0.01669941060903733,\n",
       " 0.010805500982318271,\n",
       " 0.047151277013752456,\n",
       " 0.009823182711198428,\n",
       " 0.008840864440078585,\n",
       " 0.007858546168958742]"
      ]
     },
     "execution_count": 27,
     "metadata": {},
     "output_type": "execute_result"
    }
   ],
   "source": [
    "probs = set(filtered_probabilities.values())\n",
    "list(probs)"
   ]
  },
  {
   "cell_type": "code",
   "execution_count": 42,
   "id": "c57c97cc-1c87-49ed-943e-0ec86b1d370a",
   "metadata": {},
   "outputs": [
    {
     "data": {
      "text/plain": [
       "{0.005893909626719057,\n",
       " 0.0068762278978389,\n",
       " 0.007858546168958742,\n",
       " 0.008840864440078585,\n",
       " 0.009823182711198428,\n",
       " 0.010805500982318271,\n",
       " 0.011787819253438114,\n",
       " 0.012770137524557957,\n",
       " 0.014734774066797643,\n",
       " 0.01669941060903733,\n",
       " 0.023575638506876228,\n",
       " 0.029469548133595286,\n",
       " 0.04518664047151277,\n",
       " 0.047151277013752456}"
      ]
     },
     "execution_count": 42,
     "metadata": {},
     "output_type": "execute_result"
    }
   ],
   "source": [
    "subset_probs = {element for element in probs if element >= 0.005}\n",
    "\n",
    "subset_probs\n"
   ]
  }
 ],
 "metadata": {
  "kernelspec": {
   "display_name": "Python 3 (ipykernel)",
   "language": "python",
   "name": "python3"
  },
  "language_info": {
   "codemirror_mode": {
    "name": "ipython",
    "version": 3
   },
   "file_extension": ".py",
   "mimetype": "text/x-python",
   "name": "python",
   "nbconvert_exporter": "python",
   "pygments_lexer": "ipython3",
   "version": "3.10.6"
  }
 },
 "nbformat": 4,
 "nbformat_minor": 5
}
