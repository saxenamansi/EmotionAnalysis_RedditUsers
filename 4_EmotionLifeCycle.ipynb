{
 "cells": [
  {
   "cell_type": "code",
   "execution_count": 1,
   "id": "2ead1397-a239-4ee3-bc45-d1bfec6e1a9e",
   "metadata": {},
   "outputs": [
    {
     "name": "stdout",
     "output_type": "stream",
     "text": [
      "using GPU\n"
     ]
    }
   ],
   "source": [
    "import torch\n",
    "\n",
    "if torch.cuda.is_available():\n",
    "    device = torch.device(\"cuda:0\")  # Use the first GPU\n",
    "    print(\"using GPU\")\n",
    "else:\n",
    "    device = torch.device(\"cpu\")  # Use CPU if no GPU is available\n",
    "    print(\"using CPU\")"
   ]
  },
  {
   "cell_type": "code",
   "execution_count": 2,
   "id": "956262b8-c3a8-4e16-849d-cc2221e2002e",
   "metadata": {},
   "outputs": [],
   "source": [
    "# compile all reddit posts together\n",
    "\n",
    "import pandas as pd\n",
    "import json\n",
    "import tqdm\n",
    "\n",
    "datapath = \"data/userReddit.csv\"\n",
    "reddit_data = pd.read_csv(datapath)"
   ]
  },
  {
   "cell_type": "code",
   "execution_count": 14,
   "id": "8cc1c9ab-5995-407f-945a-d464751628e1",
   "metadata": {},
   "outputs": [
    {
     "data": {
      "text/html": [
       "<div>\n",
       "<style scoped>\n",
       "    .dataframe tbody tr th:only-of-type {\n",
       "        vertical-align: middle;\n",
       "    }\n",
       "\n",
       "    .dataframe tbody tr th {\n",
       "        vertical-align: top;\n",
       "    }\n",
       "\n",
       "    .dataframe thead th {\n",
       "        text-align: right;\n",
       "    }\n",
       "</style>\n",
       "<table border=\"1\" class=\"dataframe\">\n",
       "  <thead>\n",
       "    <tr style=\"text-align: right;\">\n",
       "      <th></th>\n",
       "      <th>content</th>\n",
       "      <th>userId</th>\n",
       "      <th>createdTime</th>\n",
       "      <th>sentiment</th>\n",
       "      <th>preprocessed_content</th>\n",
       "    </tr>\n",
       "  </thead>\n",
       "  <tbody>\n",
       "    <tr>\n",
       "      <th>0</th>\n",
       "      <td>Hi I'm Rick Astley. Good to be back here again...</td>\n",
       "      <td>ReallyRickAstley</td>\n",
       "      <td>1.697728e+09</td>\n",
       "      <td>{'neg': 0.0, 'neu': 0.806, 'pos': 0.194, 'comp...</td>\n",
       "      <td>hi im rick astley good back my new album are w...</td>\n",
       "    </tr>\n",
       "    <tr>\n",
       "      <th>1</th>\n",
       "      <td>Live stream chat with my new album and upcomin...</td>\n",
       "      <td>ReallyRickAstley</td>\n",
       "      <td>1.697647e+09</td>\n",
       "      <td>{'neg': 0.06, 'neu': 0.713, 'pos': 0.227, 'com...</td>\n",
       "      <td>live stream chat new album upcoming ama hi im ...</td>\n",
       "    </tr>\n",
       "    <tr>\n",
       "      <th>2</th>\n",
       "      <td>Coming soon…\\n</td>\n",
       "      <td>ReallyRickAstley</td>\n",
       "      <td>1.697149e+09</td>\n",
       "      <td>{'neg': 0.0, 'neu': 1.0, 'pos': 0.0, 'compound...</td>\n",
       "      <td>coming soon</td>\n",
       "    </tr>\n",
       "    <tr>\n",
       "      <th>3</th>\n",
       "      <td>Rick Astley (me) - Never Gonna Stop [Pop]\\n</td>\n",
       "      <td>ReallyRickAstley</td>\n",
       "      <td>1.693502e+09</td>\n",
       "      <td>{'neg': 0.0, 'neu': 0.726, 'pos': 0.274, 'comp...</td>\n",
       "      <td>rick astley never gonna stop pop</td>\n",
       "    </tr>\n",
       "    <tr>\n",
       "      <th>4</th>\n",
       "      <td>Rick Astley (me) - Dippin My Feet [Pop]\\n</td>\n",
       "      <td>ReallyRickAstley</td>\n",
       "      <td>1.689269e+09</td>\n",
       "      <td>{'neg': 0.0, 'neu': 1.0, 'pos': 0.0, 'compound...</td>\n",
       "      <td>rick astley dippin my feet pop</td>\n",
       "    </tr>\n",
       "  </tbody>\n",
       "</table>\n",
       "</div>"
      ],
      "text/plain": [
       "                                             content            userId  \\\n",
       "0  Hi I'm Rick Astley. Good to be back here again...  ReallyRickAstley   \n",
       "1  Live stream chat with my new album and upcomin...  ReallyRickAstley   \n",
       "2                                     Coming soon…\\n  ReallyRickAstley   \n",
       "3        Rick Astley (me) - Never Gonna Stop [Pop]\\n  ReallyRickAstley   \n",
       "4          Rick Astley (me) - Dippin My Feet [Pop]\\n  ReallyRickAstley   \n",
       "\n",
       "    createdTime                                          sentiment  \\\n",
       "0  1.697728e+09  {'neg': 0.0, 'neu': 0.806, 'pos': 0.194, 'comp...   \n",
       "1  1.697647e+09  {'neg': 0.06, 'neu': 0.713, 'pos': 0.227, 'com...   \n",
       "2  1.697149e+09  {'neg': 0.0, 'neu': 1.0, 'pos': 0.0, 'compound...   \n",
       "3  1.693502e+09  {'neg': 0.0, 'neu': 0.726, 'pos': 0.274, 'comp...   \n",
       "4  1.689269e+09  {'neg': 0.0, 'neu': 1.0, 'pos': 0.0, 'compound...   \n",
       "\n",
       "                                preprocessed_content  \n",
       "0  hi im rick astley good back my new album are w...  \n",
       "1  live stream chat new album upcoming ama hi im ...  \n",
       "2                                        coming soon  \n",
       "3                   rick astley never gonna stop pop  \n",
       "4                     rick astley dippin my feet pop  "
      ]
     },
     "execution_count": 14,
     "metadata": {},
     "output_type": "execute_result"
    }
   ],
   "source": [
    "reddit_data.head()"
   ]
  },
  {
   "cell_type": "code",
   "execution_count": 10,
   "id": "70a28e2c-ce8b-47b1-995d-e59eb015498a",
   "metadata": {},
   "outputs": [
    {
     "data": {
      "text/plain": [
       "(userId\n",
       " CesaroSalad             791\n",
       " serventofgaben          707\n",
       " thecrazydeviant         445\n",
       " schweenieboy            335\n",
       " angelicdemon13          244\n",
       " paspa1801               207\n",
       " SomeGuyInDeutschland    204\n",
       " Myamoxomis              186\n",
       " parisianseine           133\n",
       " Yotroller02             120\n",
       " Name: count, dtype: int64,\n",
       " userId\n",
       " suryakantamangaraj    112\n",
       " throwawaynumber53     111\n",
       " ams712                105\n",
       " Afol456                95\n",
       " GenTryxx               79\n",
       " PsychoPotency          78\n",
       " Ice-Senpai0323         76\n",
       " ReallyRickAstley       71\n",
       " gxzzymo                69\n",
       " collect_Info_1960      68\n",
       " Name: count, dtype: int64,\n",
       " userId\n",
       " cookiecutie707      67\n",
       " e-vanilla           66\n",
       " ShakinAssFaJeeps    63\n",
       " thesomeonetokno     60\n",
       " noodlepooodle       59\n",
       " milkystarrgirl      56\n",
       " Itsdon_on           52\n",
       " gr0wyourhair        51\n",
       " wd26                47\n",
       " flatbootybih        36\n",
       " Name: count, dtype: int64)"
      ]
     },
     "execution_count": 10,
     "metadata": {},
     "output_type": "execute_result"
    }
   ],
   "source": [
    "# for user in tqdm(users, desc=\"Processing user posts\", unit=\"user\"):\n",
    "\n",
    "f = reddit_data['userId'].value_counts()\n",
    "f[:10],f[10:20], f[20:30]"
   ]
  },
  {
   "cell_type": "code",
   "execution_count": 12,
   "id": "f6cb0f69-0bdc-480c-a5b3-a23f689cbfda",
   "metadata": {},
   "outputs": [],
   "source": [
    "user = \"gr0wyourhair\"\n",
    "\n",
    "user_history = reddit_data[reddit_data['userId'] == user]\n",
    "sorted_history = user_history.sort_values(by='createdTime')"
   ]
  },
  {
   "cell_type": "code",
   "execution_count": 19,
   "id": "7c15e4d2-4d1a-4841-90c7-3581957b9235",
   "metadata": {},
   "outputs": [
    {
     "data": {
      "text/plain": [
       "pandas.core.series.Series"
      ]
     },
     "execution_count": 19,
     "metadata": {},
     "output_type": "execute_result"
    }
   ],
   "source": [
    "type(sorted_history['preprocessed_content'])"
   ]
  },
  {
   "cell_type": "code",
   "execution_count": 23,
   "id": "b1c296c6-630f-4709-8347-435c6c97c6d8",
   "metadata": {},
   "outputs": [
    {
     "name": "stderr",
     "output_type": "stream",
     "text": [
      "2023-11-17 19:36:34.338652: I tensorflow/core/platform/cpu_feature_guard.cc:182] This TensorFlow binary is optimized to use available CPU instructions in performance-critical operations.\n",
      "To enable the following instructions: AVX2 AVX512F FMA, in other operations, rebuild TensorFlow with the appropriate compiler flags.\n",
      "2023-11-17 19:36:34.954319: W tensorflow/compiler/tf2tensorrt/utils/py_utils.cc:38] TF-TRT Warning: Could not find TensorRT\n"
     ]
    }
   ],
   "source": [
    "from transformers import AutoModelForSequenceClassification, AutoTokenizer\n",
    "from transformers_interpret import SequenceClassificationExplainer\n"
   ]
  },
  {
   "cell_type": "code",
   "execution_count": 24,
   "id": "307dac69-1ea1-42c2-8f5a-37b77908d286",
   "metadata": {},
   "outputs": [],
   "source": [
    "model_name = \"SamLowe/roberta-base-go_emotions\"\n",
    "model = AutoModelForSequenceClassification.from_pretrained(model_name)\n",
    "tokenizer = AutoTokenizer.from_pretrained(model_name)"
   ]
  },
  {
   "cell_type": "code",
   "execution_count": 25,
   "id": "bb3a068d-7bf4-44b7-a996-9c73c7c08f48",
   "metadata": {},
   "outputs": [],
   "source": [
    "def sequenceclassification(model, tokenizer, sentence):\n",
    "    cls_explainer = SequenceClassificationExplainer(model, tokenizer)\n",
    "    word_attributions = cls_explainer(sentence)\n",
    "    label = cls_explainer.predicted_class_name\n",
    "    return word_attributions, label"
   ]
  },
  {
   "cell_type": "code",
   "execution_count": 26,
   "id": "ceb092cf-6e02-4a26-8d69-0efb84dde09b",
   "metadata": {},
   "outputs": [],
   "source": [
    "compiled_word_attributions = []\n",
    "compiled_labels = []\n",
    "\n",
    "for post in sorted_history['preprocessed_content']:\n",
    "    word_attributions, label = sequenceclassification(model, tokenizer, post)\n",
    "    compiled_word_attributions.append(word_attributions)\n",
    "    compiled_labels.append(label)"
   ]
  },
  {
   "cell_type": "code",
   "execution_count": 85,
   "id": "bdd2ed65-9b5e-48b3-8894-a06ec4f653ea",
   "metadata": {},
   "outputs": [],
   "source": [
    "# ! pip install vaderSentiment\n",
    "from vaderSentiment.vaderSentiment import SentimentIntensityAnalyzer\n"
   ]
  },
  {
   "cell_type": "code",
   "execution_count": 86,
   "id": "ecae632e-118c-4a1f-9f36-2814081dcee0",
   "metadata": {},
   "outputs": [],
   "source": [
    "#Define a function to perform sentiment analysis using VADER\n",
    "def get_sentiment(text):\n",
    "    sentiment = analyzer.polarity_scores(text)\n",
    "    return sentiment"
   ]
  },
  {
   "cell_type": "code",
   "execution_count": 90,
   "id": "34545d9f-f1a1-469c-b294-bb4a2149b8da",
   "metadata": {},
   "outputs": [],
   "source": [
    "# getting sentiment\n",
    "analyzer = SentimentIntensityAnalyzer()\n",
    "sorted_history['sentiment'] = sorted_history['preprocessed_content'].apply(get_sentiment)\n",
    "sentiment = sorted_history['sentiment']"
   ]
  },
  {
   "cell_type": "code",
   "execution_count": 37,
   "id": "35637754-7e46-414e-88e0-41c6e4eb08ef",
   "metadata": {},
   "outputs": [],
   "source": [
    "timestamps = sorted_history['createdTime']\n",
    "# timestamps"
   ]
  },
  {
   "cell_type": "code",
   "execution_count": 72,
   "id": "ff57b663-60d6-40ce-8453-0c84f7b3d5e2",
   "metadata": {},
   "outputs": [],
   "source": [
    "from datetime import datetime, timezone\n",
    "\n",
    "def get_time(timestamp):\n",
    "    dt_utc = datetime.utcfromtimestamp(timestamp).replace(tzinfo=timezone.utc)\n",
    "    \n",
    "    # Extract year, month, day, hour, minute, and second\n",
    "    year = dt_utc.year\n",
    "    month = dt_utc.month\n",
    "    day = dt_utc.day\n",
    "    hour = dt_utc.hour\n",
    "    mint = dt_utc.minute\n",
    "    second = dt_utc.second\n",
    "    \n",
    "    return year, month, day, hour, mint, sec\n",
    "    "
   ]
  },
  {
   "cell_type": "code",
   "execution_count": 80,
   "id": "6aabecc8-7af3-4cbb-b653-9c8354c0ae4b",
   "metadata": {},
   "outputs": [],
   "source": [
    "# top_10_words_score = []\n",
    "# top_10_words = []\n",
    "all_post_top_words = []\n",
    "\n",
    "for wa in compiled_word_attributions:\n",
    "    sorted_wa = sorted(wa, key=lambda x: x[1], reverse=True)[:10]\n",
    "    top_words = []\n",
    "    for word, score in sorted_wa:\n",
    "        if score>0:\n",
    "            top_words.append((word, score))\n",
    "    all_post_top_words.append(top_words)\n",
    "    # top_10_words_score.append(sorted_wa)\n",
    "    # top_10 = [worddict[0] for worddict in sorted_wa]\n",
    "    # top_10_words.append(top_10)\n"
   ]
  },
  {
   "cell_type": "code",
   "execution_count": 82,
   "id": "e2df5225-722f-4df4-a71a-51d763d1c46f",
   "metadata": {},
   "outputs": [],
   "source": [
    "# all_post_top_words"
   ]
  },
  {
   "cell_type": "code",
   "execution_count": 92,
   "id": "480ad8a1-7e30-439f-bbc6-904cab772208",
   "metadata": {},
   "outputs": [
    {
     "name": "stdout",
     "output_type": "stream",
     "text": [
      "Output has been written to output.txt\n"
     ]
    }
   ],
   "source": [
    "# Open a file in write mode ('w')\n",
    "with open('output.txt', 'w') as file:\n",
    "    for timestamp, words, s, label in zip(timestamps, all_post_top_words, sentiment, compiled_labels):\n",
    "        year, month, day, hour, mint, sec = get_time(timestamp)\n",
    "        if hour > 12:\n",
    "            hour -= hour - 12\n",
    "        # Redirect print statements to the file\n",
    "        print(f\"Date: {year}/{month}/{day}; Time: {hour}:{mint}:{sec}\", file=file)\n",
    "        print(\"Top words used: \", file=file)\n",
    "        for word, score in words:\n",
    "            print(word, \" : \", score, file=file)\n",
    "        print(f\"Sentiment: {s}\", file=file)\n",
    "        print(f\"Classified emotion: {label}\", file=file)\n",
    "        print(\"\", file=file)\n",
    "\n",
    "print('Output has been written to output.txt')\n"
   ]
  },
  {
   "cell_type": "code",
   "execution_count": null,
   "id": "94de3c26-1d24-482f-92d3-2d3479323b84",
   "metadata": {},
   "outputs": [],
   "source": []
  }
 ],
 "metadata": {
  "kernelspec": {
   "display_name": "Python 3 (ipykernel)",
   "language": "python",
   "name": "python3"
  },
  "language_info": {
   "codemirror_mode": {
    "name": "ipython",
    "version": 3
   },
   "file_extension": ".py",
   "mimetype": "text/x-python",
   "name": "python",
   "nbconvert_exporter": "python",
   "pygments_lexer": "ipython3",
   "version": "3.10.6"
  }
 },
 "nbformat": 4,
 "nbformat_minor": 5
}
